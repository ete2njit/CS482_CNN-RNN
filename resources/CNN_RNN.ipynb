{
  "nbformat": 4,
  "nbformat_minor": 0,
  "metadata": {
    "colab": {
      "name": "Assignment3.ipynb",
      "provenance": [],
      "collapsed_sections": []
    },
    "kernelspec": {
      "name": "python3",
      "display_name": "Python 3"
    },
    "language_info": {
      "name": "python"
    },
    "accelerator": "GPU"
  },
  "cells": [
    {
      "cell_type": "markdown",
      "metadata": {
        "id": "Q6ijNwSaGoVO"
      },
      "source": [
        "#imports\n",
        "\n"
      ]
    },
    {
      "cell_type": "code",
      "metadata": {
        "id": "DCNT42mrGm5l"
      },
      "source": [
        "from tensorflow import keras\n",
        "from functools import partial\n",
        "from tensorflow.python.client import device_lib\n",
        "import numpy as np"
      ],
      "execution_count": null,
      "outputs": []
    },
    {
      "cell_type": "markdown",
      "metadata": {
        "id": "RCUJooo1Copk"
      },
      "source": [
        "#Check current GPU"
      ]
    },
    {
      "cell_type": "code",
      "metadata": {
        "colab": {
          "base_uri": "https://localhost:8080/"
        },
        "id": "HdloMlsgq9J1",
        "outputId": "a8157856-0456-4a7e-87f4-bb666b052615"
      },
      "source": [
        "print(device_lib.list_local_devices())"
      ],
      "execution_count": null,
      "outputs": [
        {
          "output_type": "stream",
          "name": "stdout",
          "text": [
            "[name: \"/device:CPU:0\"\n",
            "device_type: \"CPU\"\n",
            "memory_limit: 268435456\n",
            "locality {\n",
            "}\n",
            "incarnation: 1079741337473580621\n",
            "xla_global_id: -1\n",
            ", name: \"/device:GPU:0\"\n",
            "device_type: \"GPU\"\n",
            "memory_limit: 11321147392\n",
            "locality {\n",
            "  bus_id: 1\n",
            "  links {\n",
            "  }\n",
            "}\n",
            "incarnation: 3150033272920345238\n",
            "physical_device_desc: \"device: 0, name: Tesla K80, pci bus id: 0000:00:04.0, compute capability: 3.7\"\n",
            "xla_global_id: 416903419\n",
            "]\n"
          ]
        }
      ]
    },
    {
      "cell_type": "markdown",
      "metadata": {
        "id": "R8YA675Hapn0"
      },
      "source": [
        "#Fetch Dataset\n"
      ]
    },
    {
      "cell_type": "code",
      "metadata": {
        "id": "g1dl236Carhh",
        "colab": {
          "base_uri": "https://localhost:8080/"
        },
        "outputId": "bbee50ee-41c8-4de3-a3be-186d9c29599a"
      },
      "source": [
        "fashion_mnist = keras.datasets.fashion_mnist\n",
        "\n",
        "(X_train_full, y_train_full), (X_test, y_test) = fashion_mnist.load_data()\n",
        "\n",
        "X_valid, X_train = X_train_full[:5000] / 255.0, X_train_full[5000:] / 255.0\n",
        "y_valid, y_train = y_train_full[:5000], y_train_full[5000:]\n",
        "\n",
        "class_names = [\"T-shirt/top\", \"Trouser\", \"Pullover\", \"Dress\", \"Coat\", \"Sandal\", \"Shirt\", \"Sneaker\", \"Bag\", \"Ankle boot\"]\n",
        "\n",
        "output_labels = len(class_names)\n",
        "input_height = 28\n",
        "input_width = 28"
      ],
      "execution_count": null,
      "outputs": [
        {
          "output_type": "stream",
          "name": "stdout",
          "text": [
            "Downloading data from https://storage.googleapis.com/tensorflow/tf-keras-datasets/train-labels-idx1-ubyte.gz\n",
            "32768/29515 [=================================] - 0s 0us/step\n",
            "40960/29515 [=========================================] - 0s 0us/step\n",
            "Downloading data from https://storage.googleapis.com/tensorflow/tf-keras-datasets/train-images-idx3-ubyte.gz\n",
            "26427392/26421880 [==============================] - 0s 0us/step\n",
            "26435584/26421880 [==============================] - 0s 0us/step\n",
            "Downloading data from https://storage.googleapis.com/tensorflow/tf-keras-datasets/t10k-labels-idx1-ubyte.gz\n",
            "16384/5148 [===============================================================================================] - 0s 0us/step\n",
            "Downloading data from https://storage.googleapis.com/tensorflow/tf-keras-datasets/t10k-images-idx3-ubyte.gz\n",
            "4423680/4422102 [==============================] - 0s 0us/step\n",
            "4431872/4422102 [==============================] - 0s 0us/step\n"
          ]
        }
      ]
    },
    {
      "cell_type": "code",
      "metadata": {
        "colab": {
          "base_uri": "https://localhost:8080/"
        },
        "id": "lMx0WAxhlxRJ",
        "outputId": "c67068e3-a496-4096-ce1c-7a57bd1693c3"
      },
      "source": [
        "X_train.shape"
      ],
      "execution_count": null,
      "outputs": [
        {
          "output_type": "execute_result",
          "data": {
            "text/plain": [
              "(55000, 28, 28)"
            ]
          },
          "metadata": {},
          "execution_count": 4
        }
      ]
    },
    {
      "cell_type": "markdown",
      "metadata": {
        "id": "NCxaeGd4Z0PG"
      },
      "source": [
        "#RNN\n"
      ]
    },
    {
      "cell_type": "code",
      "metadata": {
        "id": "z5mi8MwiZ1Rf"
      },
      "source": [
        "hidden_nodes = int(2*input_width*output_labels/3)\n",
        "\n",
        "modelRNN = keras.models.Sequential([\n",
        "  keras.layers.LSTM(hidden_nodes, return_sequences=False, input_shape=(input_width, input_height)),\n",
        "  keras.layers.Dropout(0.2),\n",
        "  keras.layers.Dense(units=output_labels, activation=\"softmax\"),\n",
        "])\n",
        "\n",
        "modelRNN.compile(loss=\"sparse_categorical_crossentropy\",optimizer=\"adam\",metrics=[\"accuracy\"])"
      ],
      "execution_count": null,
      "outputs": []
    },
    {
      "cell_type": "code",
      "metadata": {
        "colab": {
          "base_uri": "https://localhost:8080/"
        },
        "id": "h0SyO21ubkxs",
        "outputId": "34908e61-a7d1-4008-fa57-6722ef9d0009"
      },
      "source": [
        "historyRNN = modelRNN.fit(X_train, y_train, epochs=10, validation_data=(X_valid, y_valid))"
      ],
      "execution_count": null,
      "outputs": [
        {
          "output_type": "stream",
          "name": "stdout",
          "text": [
            "Epoch 1/10\n",
            "1719/1719 [==============================] - 28s 13ms/step - loss: 0.5963 - accuracy: 0.7794 - val_loss: 0.4449 - val_accuracy: 0.8364\n",
            "Epoch 2/10\n",
            "1719/1719 [==============================] - 22s 13ms/step - loss: 0.4180 - accuracy: 0.8469 - val_loss: 0.3643 - val_accuracy: 0.8638\n",
            "Epoch 3/10\n",
            "1719/1719 [==============================] - 23s 13ms/step - loss: 0.3668 - accuracy: 0.8648 - val_loss: 0.3484 - val_accuracy: 0.8666\n",
            "Epoch 4/10\n",
            "1719/1719 [==============================] - 23s 13ms/step - loss: 0.3344 - accuracy: 0.8763 - val_loss: 0.3276 - val_accuracy: 0.8790\n",
            "Epoch 5/10\n",
            "1719/1719 [==============================] - 22s 13ms/step - loss: 0.3127 - accuracy: 0.8836 - val_loss: 0.2989 - val_accuracy: 0.8878\n",
            "Epoch 6/10\n",
            "1719/1719 [==============================] - 22s 13ms/step - loss: 0.2900 - accuracy: 0.8917 - val_loss: 0.2957 - val_accuracy: 0.8896\n",
            "Epoch 7/10\n",
            "1719/1719 [==============================] - 22s 13ms/step - loss: 0.2757 - accuracy: 0.8970 - val_loss: 0.2746 - val_accuracy: 0.8998\n",
            "Epoch 8/10\n",
            "1719/1719 [==============================] - 22s 13ms/step - loss: 0.2593 - accuracy: 0.9025 - val_loss: 0.2829 - val_accuracy: 0.8970\n",
            "Epoch 9/10\n",
            "1719/1719 [==============================] - 22s 13ms/step - loss: 0.2449 - accuracy: 0.9085 - val_loss: 0.2648 - val_accuracy: 0.9024\n",
            "Epoch 10/10\n",
            "1719/1719 [==============================] - 23s 13ms/step - loss: 0.2359 - accuracy: 0.9110 - val_loss: 0.2716 - val_accuracy: 0.8996\n"
          ]
        }
      ]
    },
    {
      "cell_type": "markdown",
      "metadata": {
        "id": "egHjwh55TZfJ"
      },
      "source": [
        "#2 Layer LSTM"
      ]
    },
    {
      "cell_type": "code",
      "metadata": {
        "colab": {
          "base_uri": "https://localhost:8080/"
        },
        "id": "564XSpckU00-",
        "outputId": "b03dba5d-2ebf-4ab5-affb-8e98f61903b2"
      },
      "source": [
        "modelRNN2 = keras.models.Sequential([\n",
        "  keras.layers.LSTM(input_height*input_width, return_sequences=True, input_shape=(input_width, input_height)),\n",
        "  keras.layers.Dropout(0.2),\n",
        "  keras.layers.LSTM(hidden_nodes, return_sequences=False, input_shape=(input_width, input_height)),\n",
        "  keras.layers.Dropout(0.2),\n",
        "  keras.layers.Dense(units=output_labels, activation=\"softmax\"),\n",
        "])\n",
        "\n",
        "modelRNN2.compile(loss=\"sparse_categorical_crossentropy\",optimizer=\"adam\",metrics=[\"accuracy\"])\n",
        "\n",
        "historyRNN2 = modelRNN2.fit(X_train, y_train, epochs=10, validation_data=(X_valid, y_valid))"
      ],
      "execution_count": null,
      "outputs": [
        {
          "output_type": "stream",
          "name": "stdout",
          "text": [
            "Epoch 1/10\n",
            "1719/1719 [==============================] - 68s 37ms/step - loss: 0.5858 - accuracy: 0.7836 - val_loss: 0.4488 - val_accuracy: 0.8342\n",
            "Epoch 2/10\n",
            "1719/1719 [==============================] - 63s 37ms/step - loss: 0.4011 - accuracy: 0.8517 - val_loss: 0.3531 - val_accuracy: 0.8670\n",
            "Epoch 3/10\n",
            "1719/1719 [==============================] - 63s 37ms/step - loss: 0.3494 - accuracy: 0.8704 - val_loss: 0.3300 - val_accuracy: 0.8786\n",
            "Epoch 4/10\n",
            "1719/1719 [==============================] - 64s 37ms/step - loss: 0.3097 - accuracy: 0.8839 - val_loss: 0.2922 - val_accuracy: 0.8940\n",
            "Epoch 5/10\n",
            "1719/1719 [==============================] - 63s 37ms/step - loss: 0.2859 - accuracy: 0.8914 - val_loss: 0.2888 - val_accuracy: 0.8956\n",
            "Epoch 6/10\n",
            "1719/1719 [==============================] - 63s 37ms/step - loss: 0.2619 - accuracy: 0.9021 - val_loss: 0.2693 - val_accuracy: 0.8980\n",
            "Epoch 7/10\n",
            "1719/1719 [==============================] - 63s 37ms/step - loss: 0.2429 - accuracy: 0.9090 - val_loss: 0.2623 - val_accuracy: 0.9004\n",
            "Epoch 8/10\n",
            "1719/1719 [==============================] - 63s 37ms/step - loss: 0.2287 - accuracy: 0.9144 - val_loss: 0.2471 - val_accuracy: 0.9088\n",
            "Epoch 9/10\n",
            "1719/1719 [==============================] - 63s 37ms/step - loss: 0.2100 - accuracy: 0.9213 - val_loss: 0.2516 - val_accuracy: 0.9074\n",
            "Epoch 10/10\n",
            "1719/1719 [==============================] - 63s 37ms/step - loss: 0.1983 - accuracy: 0.9257 - val_loss: 0.2495 - val_accuracy: 0.9102\n"
          ]
        }
      ]
    },
    {
      "cell_type": "markdown",
      "metadata": {
        "id": "j7ca3pB5aOET"
      },
      "source": [
        "#CNN"
      ]
    },
    {
      "cell_type": "code",
      "metadata": {
        "id": "KEVgkHKCaRBs"
      },
      "source": [
        "DefaultConv2D = partial(keras.layers.Conv2D,kernel_size=3, activation='relu', padding=\"SAME\")\n",
        "\n",
        "modelCNN = keras.models.Sequential([    \n",
        "  DefaultConv2D(filters=64, kernel_size=7, input_shape=[input_width, input_height, 1]),    \n",
        "  keras.layers.MaxPooling2D(pool_size=2),    \n",
        "  DefaultConv2D(filters=128),    \n",
        "  DefaultConv2D(filters=128),    \n",
        "  keras.layers.MaxPooling2D(pool_size=2),    \n",
        "  DefaultConv2D(filters=256),    \n",
        "  DefaultConv2D(filters=256),    \n",
        "  keras.layers.MaxPooling2D(pool_size=2),   \n",
        "  keras.layers.Flatten(),    \n",
        "  keras.layers.Dense(units=128, activation='relu'),    \n",
        "  keras.layers.Dropout(0.5),   \n",
        "  keras.layers.Dense(units=64, activation='relu'),    \n",
        "  keras.layers.Dropout(0.5),    \n",
        "  keras.layers.Dense(units=output_labels, activation='softmax'),\n",
        "])\n",
        "\n",
        "modelCNN.compile(loss=\"sparse_categorical_crossentropy\",optimizer=\"adam\",metrics=[\"accuracy\"])"
      ],
      "execution_count": null,
      "outputs": []
    },
    {
      "cell_type": "code",
      "metadata": {
        "colab": {
          "base_uri": "https://localhost:8080/"
        },
        "id": "vJ33X0PAcxlP",
        "outputId": "f7fcc0e6-256d-43ea-def3-6f9ffa83b2b0"
      },
      "source": [
        "history = modelCNN.fit(X_train, y_train, epochs=10, validation_data=(X_valid, y_valid))"
      ],
      "execution_count": null,
      "outputs": [
        {
          "output_type": "stream",
          "name": "stdout",
          "text": [
            "Epoch 1/10\n",
            "1719/1719 [==============================] - 54s 16ms/step - loss: 0.7821 - accuracy: 0.7197 - val_loss: 0.3767 - val_accuracy: 0.8582\n",
            "Epoch 2/10\n",
            "1719/1719 [==============================] - 28s 16ms/step - loss: 0.4549 - accuracy: 0.8430 - val_loss: 0.3174 - val_accuracy: 0.8864\n",
            "Epoch 3/10\n",
            "1719/1719 [==============================] - 27s 16ms/step - loss: 0.3866 - accuracy: 0.8674 - val_loss: 0.2895 - val_accuracy: 0.8942\n",
            "Epoch 4/10\n",
            "1719/1719 [==============================] - 28s 16ms/step - loss: 0.3409 - accuracy: 0.8826 - val_loss: 0.2950 - val_accuracy: 0.8972\n",
            "Epoch 5/10\n",
            "1719/1719 [==============================] - 27s 16ms/step - loss: 0.3096 - accuracy: 0.8949 - val_loss: 0.2720 - val_accuracy: 0.9018\n",
            "Epoch 6/10\n",
            "1719/1719 [==============================] - 27s 16ms/step - loss: 0.2873 - accuracy: 0.9011 - val_loss: 0.2526 - val_accuracy: 0.9094\n",
            "Epoch 7/10\n",
            "1719/1719 [==============================] - 28s 16ms/step - loss: 0.2729 - accuracy: 0.9071 - val_loss: 0.2577 - val_accuracy: 0.9092\n",
            "Epoch 8/10\n",
            "1719/1719 [==============================] - 28s 16ms/step - loss: 0.2636 - accuracy: 0.9101 - val_loss: 0.2577 - val_accuracy: 0.9130\n",
            "Epoch 9/10\n",
            "1719/1719 [==============================] - 28s 16ms/step - loss: 0.2417 - accuracy: 0.9167 - val_loss: 0.2387 - val_accuracy: 0.9124\n",
            "Epoch 10/10\n",
            "1719/1719 [==============================] - 28s 16ms/step - loss: 0.2335 - accuracy: 0.9190 - val_loss: 0.2485 - val_accuracy: 0.9094\n"
          ]
        }
      ]
    }
  ]
}